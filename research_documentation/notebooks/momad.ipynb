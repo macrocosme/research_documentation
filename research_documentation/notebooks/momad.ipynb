{
 "cells": [
  {
   "cell_type": "code",
   "execution_count": null,
   "metadata": {},
   "outputs": [],
   "source": [
    "import numpy as np\n",
    "\n",
    "# Generate a few arrays of different length\n",
    "a = np.random.rand(10)\n",
    "b = np.random.rand(25)\n",
    "c = np.random.rand(100)\n",
    "d = np.random.rand(250)\n",
    "\n",
    "all_series = [a,b,c,d]\n",
    "\n",
    "momad = [-99,-99,-99,-99]\n",
    "i = 0\n",
    "\n",
    "for series in all_series:\n",
    "    print (series)\n",
    "    for item in series:\n",
    "        mom = (np.median(np.abs(item-np.median(series))))\n",
    "        if mom > momad[i]:\n",
    "            momad[i] = mom\n",
    "    print (momad[i])\n",
    "    print ()\n",
    "    i += 1"
   ]
  },
  {
   "cell_type": "code",
   "execution_count": null,
   "metadata": {},
   "outputs": [],
   "source": [
    "# Odd-Even Sort\n",
    "for merge_step in mer= \" + std::to_string(static_cast<unsigned int>(std::pow(2, std::ceil(std::log2(stepSize)) - 1))) + \"; merge_step > 0; merge_step /= 2 ):\n",
    "    for ( unsigned int other_index = merge_step, sort_step np.pow(2, np.ceil(np.log2(stepSize)) - 1)) , turn  = 0; other_index > 0; other_index = sort_step - merge_step, sort_step /= 2, turn = merge_step ):\n",
    "        for index in range(stepSize) - other_index:\n",
    "            if ( ((index & merge_step) == turn) && (local_data[index] > local_data[index + other_index]) ):\n",
    "                + dataName + \" temp = local_data[index]\n",
    "                \"local_data[index] = local_data[index + other_index]\n",
    "                \"local_data[index + other_index] = temp"
   ]
  },
  {
   "cell_type": "code",
   "execution_count": null,
   "metadata": {},
   "outputs": [],
   "source": [
    "#Store median"
   ]
  },
  {
   "cell_type": "code",
   "execution_count": null,
   "metadata": {},
   "outputs": [],
   "source": [
    "def default_compare(a, b):\n",
    "  if a < b:\n",
    "    return -1\n",
    "  elif a > b:\n",
    "    return 1\n",
    "  return 0\n",
    "\n",
    "def odd_even_sort(array, compare=default_compare):\n",
    "  sorted = False\n",
    "  while not sorted:\n",
    "    sorted = inner_sort(array, 1, compare)\n",
    "    sorted = inner_sort(array, 0, compare) and sorted\n",
    "  return array\n",
    "\n",
    "def inner_sort(array, start_i, compare):\n",
    "  sorted = True\n",
    "  for i in range(start_i, len(array) - 1, 2):\n",
    "    if compare(array[i], array[i + 1]) > 0:\n",
    "      array[i], array[i + 1] = array[i + 1], array[i]\n",
    "      sorted = False\n",
    "  return sorted"
   ]
  },
  {
   "cell_type": "code",
   "execution_count": null,
   "metadata": {},
   "outputs": [],
   "source": [
    "odd_even_sort(a)"
   ]
  },
  {
   "cell_type": "code",
   "execution_count": null,
   "metadata": {},
   "outputs": [],
   "source": [
    "odd_even_sort(b)"
   ]
  },
  {
   "cell_type": "code",
   "execution_count": null,
   "metadata": {},
   "outputs": [],
   "source": []
  }
 ],
 "metadata": {
  "kernelspec": {
   "display_name": "Python 3",
   "language": "python",
   "name": "python3"
  },
  "language_info": {
   "codemirror_mode": {
    "name": "ipython",
    "version": 3
   },
   "file_extension": ".py",
   "mimetype": "text/x-python",
   "name": "python",
   "nbconvert_exporter": "python",
   "pygments_lexer": "ipython3",
   "version": "3.7.0"
  }
 },
 "nbformat": 4,
 "nbformat_minor": 2
}
