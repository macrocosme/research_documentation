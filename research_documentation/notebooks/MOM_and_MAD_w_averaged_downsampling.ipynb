{
 "cells": [
  {
   "cell_type": "markdown",
   "metadata": {},
   "source": [
    "# Method\n",
    "\n",
    "--------------\n",
    "\n",
    "for momad, we simply compute: \n",
    "\n",
    "    - max,\n",
    "    - median of medians.\n",
    "\n",
    "Then compute: \n",
    "\n",
    "    - median of medians absolute deviation (that is another median of medians but subtracting the previous median from all samples)\n",
    "\n",
    "Then we do \n",
    "\n",
    "    - (max - median of medians) /  (mad * x), \n",
    "    \n",
    "where x is something like 1.48\n",
    "\n",
    "--------------"
   ]
  },
  {
   "cell_type": "markdown",
   "metadata": {},
   "source": [
    "# Imports"
   ]
  },
  {
   "cell_type": "code",
   "execution_count": 3,
   "metadata": {},
   "outputs": [],
   "source": [
    "import numpy as np\n",
    "\n",
    "from matplotlib import pyplot as plt\n",
    "from matplotlib import rc\n",
    "\n",
    "%matplotlib inline\n",
    "%config InlineBackend.figure_format='retina'\n",
    "\n",
    "rc('font', size=12)\n",
    "rc('axes', titlesize=14)\n",
    "rc('axes', labelsize=14)"
   ]
  },
  {
   "cell_type": "markdown",
   "metadata": {},
   "source": [
    "# Recursive median of medians"
   ]
  },
  {
   "cell_type": "code",
   "execution_count": 21,
   "metadata": {},
   "outputs": [],
   "source": [
    "def compute_mom(L):\n",
    "    if len(L) < 10:\n",
    "        L.sort()\n",
    "        return L[int(len(L)/2)]\n",
    "    S = []\n",
    "    lIndex = 0\n",
    "    \n",
    "    for lIndex in range(0,len(L)-1,5):\n",
    "        S.append(L[lIndex:lIndex+5])\n",
    "    \n",
    "    S.append(L[lIndex:])\n",
    "    Meds = []\n",
    "    \n",
    "    for subList in S:\n",
    "        Meds.append(compute_mom(subList))\n",
    "    \n",
    "    L2 = compute_mom(Meds)\n",
    "    L1 = L3 = []\n",
    "    \n",
    "    for i in L:\n",
    "        if i < L2:\n",
    "            L1.append(i)\n",
    "        if i > L2:\n",
    "            L3.append(i)\n",
    "    \n",
    "    if len(L) < len(L1):\n",
    "        return compute_mom(L1)\n",
    "    \n",
    "    elif len(L) > len(L1) + 1:\n",
    "        return compute_mom(L3)\n",
    "    \n",
    "    else:\n",
    "        return L2"
   ]
  },
  {
   "cell_type": "markdown",
   "metadata": {},
   "source": [
    "# Downsampling"
   ]
  },
  {
   "cell_type": "code",
   "execution_count": 38,
   "metadata": {},
   "outputs": [],
   "source": [
    "def downsample(array, downsampling):\n",
    "    if downsampling == 0:\n",
    "        return array\n",
    "\n",
    "    series = []\n",
    "    for i in range(0, len(array), downsampling):\n",
    "        series.append(np.mean(array[i:i+downsampling]))\n",
    "    return np.asarray(series)"
   ]
  },
  {
   "cell_type": "markdown",
   "metadata": {},
   "source": [
    "# Generate SNR data"
   ]
  },
  {
   "cell_type": "code",
   "execution_count": 2,
   "metadata": {},
   "outputs": [],
   "source": [
    "def init_dict_list(dictionary, key):\n",
    "    try: \n",
    "        dictionary[key]\n",
    "    except KeyError:\n",
    "        dictionary[key] = []\n",
    "    return dictionary\n",
    "\n",
    "def noise_transients_experiment(print_log=False):\n",
    "    seriess = {}\n",
    "    lens = []\n",
    "    maxima = {}\n",
    "    moms = {}\n",
    "    mads = {}\n",
    "    snrs = {}\n",
    "   \n",
    "    n_loops = 10000\n",
    "    n_samples = 2500\n",
    "    counter_start = 250\n",
    "    counter_end = 0\n",
    "    counter_step = -25\n",
    "\n",
    "    if print_log:\n",
    "        print (\"downsampling\", \"len\", \"maximum\", \"mom\", \"mad\")\n",
    "    for i in range(n_loops):\n",
    "        array = np.random.normal(0,1,n_samples)\n",
    "\n",
    "        for downsampling in range(counter_start, counter_end, counter_step):\n",
    "            series = downsample(array, downsampling)\n",
    "            \n",
    "            # MAX\n",
    "            maximum = np.nanmax(series)\n",
    "\n",
    "            # MOMz\n",
    "            mom = compute_mom(series)\n",
    "\n",
    "            # MAD\n",
    "            series_mad = np.abs(series - mom)\n",
    "            mad = np.median(series_mad)\n",
    "            \n",
    "            if print_log:\n",
    "                print (downsampling, lens, maximum, mom, mad)\n",
    "            \n",
    "            snr = (maximum-mom)/(mad*1.48)\n",
    "            if snr >= 10:\n",
    "                key = len(series)\n",
    "                if key not in lens:\n",
    "                    lens.append(key)\n",
    "                init_dict_list(maxima,key)[key].append(maximum)\n",
    "                init_dict_list(moms,key)[key].append(mom)\n",
    "                init_dict_list(mads,key)[key].append(mad)\n",
    "                init_dict_list(snrs,key)[key].append(snr)\n",
    "\n",
    "    return n_loops, n_samples, counter_start, counter_end, counter_step, seriess, lens, maxima, moms, mads, snrs"
   ]
  },
  {
   "cell_type": "code",
   "execution_count": 3,
   "metadata": {},
   "outputs": [
    {
     "ename": "NameError",
     "evalue": "name 'np' is not defined",
     "output_type": "error",
     "traceback": [
      "\u001b[0;31m---------------------------------------------------------------------------\u001b[0m",
      "\u001b[0;31mNameError\u001b[0m                                 Traceback (most recent call last)",
      "\u001b[0;32m<ipython-input-3-651607812eac>\u001b[0m in \u001b[0;36m<module>\u001b[0;34m()\u001b[0m\n\u001b[0;32m----> 1\u001b[0;31m \u001b[0mn_loops\u001b[0m\u001b[0;34m,\u001b[0m \u001b[0mn_samples\u001b[0m\u001b[0;34m,\u001b[0m \u001b[0mcounter_start\u001b[0m\u001b[0;34m,\u001b[0m \u001b[0mcounter_end\u001b[0m\u001b[0;34m,\u001b[0m \u001b[0mcounter_step\u001b[0m\u001b[0;34m,\u001b[0m \u001b[0mseriess\u001b[0m\u001b[0;34m,\u001b[0m \u001b[0mlens\u001b[0m\u001b[0;34m,\u001b[0m \u001b[0mmaxima\u001b[0m\u001b[0;34m,\u001b[0m \u001b[0mmoms\u001b[0m\u001b[0;34m,\u001b[0m \u001b[0mmads\u001b[0m\u001b[0;34m,\u001b[0m \u001b[0msnrs\u001b[0m \u001b[0;34m=\u001b[0m \u001b[0mnoise_transients_experiment\u001b[0m\u001b[0;34m(\u001b[0m\u001b[0;32mFalse\u001b[0m\u001b[0;34m)\u001b[0m\u001b[0;34m\u001b[0m\u001b[0m\n\u001b[0m",
      "\u001b[0;32m<ipython-input-2-7c4784ce7cec>\u001b[0m in \u001b[0;36mnoise_transients_experiment\u001b[0;34m(print_log)\u001b[0m\n\u001b[1;32m     23\u001b[0m         \u001b[0mprint\u001b[0m \u001b[0;34m(\u001b[0m\u001b[0;34m\"downsampling\"\u001b[0m\u001b[0;34m,\u001b[0m \u001b[0;34m\"len\"\u001b[0m\u001b[0;34m,\u001b[0m \u001b[0;34m\"maximum\"\u001b[0m\u001b[0;34m,\u001b[0m \u001b[0;34m\"mom\"\u001b[0m\u001b[0;34m,\u001b[0m \u001b[0;34m\"mad\"\u001b[0m\u001b[0;34m)\u001b[0m\u001b[0;34m\u001b[0m\u001b[0m\n\u001b[1;32m     24\u001b[0m     \u001b[0;32mfor\u001b[0m \u001b[0mi\u001b[0m \u001b[0;32min\u001b[0m \u001b[0mrange\u001b[0m\u001b[0;34m(\u001b[0m\u001b[0mn_loops\u001b[0m\u001b[0;34m)\u001b[0m\u001b[0;34m:\u001b[0m\u001b[0;34m\u001b[0m\u001b[0m\n\u001b[0;32m---> 25\u001b[0;31m         \u001b[0marray\u001b[0m \u001b[0;34m=\u001b[0m \u001b[0mnp\u001b[0m\u001b[0;34m.\u001b[0m\u001b[0mrandom\u001b[0m\u001b[0;34m.\u001b[0m\u001b[0mnormal\u001b[0m\u001b[0;34m(\u001b[0m\u001b[0;36m0\u001b[0m\u001b[0;34m,\u001b[0m\u001b[0;36m1\u001b[0m\u001b[0;34m,\u001b[0m\u001b[0mn_samples\u001b[0m\u001b[0;34m)\u001b[0m\u001b[0;34m\u001b[0m\u001b[0m\n\u001b[0m\u001b[1;32m     26\u001b[0m \u001b[0;34m\u001b[0m\u001b[0m\n\u001b[1;32m     27\u001b[0m         \u001b[0;32mfor\u001b[0m \u001b[0mdownsampling\u001b[0m \u001b[0;32min\u001b[0m \u001b[0mrange\u001b[0m\u001b[0;34m(\u001b[0m\u001b[0mcounter_start\u001b[0m\u001b[0;34m,\u001b[0m \u001b[0mcounter_end\u001b[0m\u001b[0;34m,\u001b[0m \u001b[0mcounter_step\u001b[0m\u001b[0;34m)\u001b[0m\u001b[0;34m:\u001b[0m\u001b[0;34m\u001b[0m\u001b[0m\n",
      "\u001b[0;31mNameError\u001b[0m: name 'np' is not defined"
     ]
    }
   ],
   "source": [
    "n_loops, n_samples, counter_start, counter_end, counter_step, seriess, lens, maxima, moms, mads, snrs = noise_transients_experiment(False)"
   ]
  },
  {
   "cell_type": "markdown",
   "metadata": {},
   "source": [
    "# Make figure"
   ]
  },
  {
   "cell_type": "code",
   "execution_count": 39,
   "metadata": {
    "scrolled": true
   },
   "outputs": [],
   "source": [
    "def figure_trigger_fraction_vs_N(n_loops, snrs, lens, figure_name='trigger_fraction_vs_N', extension='.pdf'):\n",
    "    fig, ax = plt.subplots()\n",
    "\n",
    "    ax.set_title(\"Gaussian noise data: Trigger fraction v number of samples\")\n",
    "    for key in lens: \n",
    "        ax.scatter(key, len(snrs[key])/n_loops, color='black')\n",
    "        ax.set_xlabel(\"N\")\n",
    "        ax.set_ylabel(\"Trigger fraction\")\n",
    "\n",
    "    plt.savefig(figure_name + extension)"
   ]
  },
  {
   "cell_type": "code",
   "execution_count": 40,
   "metadata": {},
   "outputs": [
    {
     "data": {
      "image/png": "[encoded data removed]",
      "text/plain": [
       "<Figure size 432x288 with 1 Axes>"
      ]
     },
     "metadata": {
      "image/png": {
       "height": 283,
       "width": 434
      },
      "needs_background": "light"
     },
     "output_type": "display_data"
    }
   ],
   "source": [
    "figure_trigger_fraction_vs_N(n_loops, snrs, lens)"
   ]
  },
  {
   "cell_type": "code",
   "execution_count": null,
   "metadata": {},
   "outputs": [],
   "source": []
  }
 ],
 "metadata": {
  "kernelspec": {
   "display_name": "Python 3",
   "language": "python",
   "name": "python3"
  },
  "language_info": {
   "codemirror_mode": {
    "name": "ipython",
    "version": 3
   },
   "file_extension": ".py",
   "mimetype": "text/x-python",
   "name": "python",
   "nbconvert_exporter": "python",
   "pygments_lexer": "ipython3",
   "version": "3.7.0"
  }
 },
 "nbformat": 4,
 "nbformat_minor": 2
}
