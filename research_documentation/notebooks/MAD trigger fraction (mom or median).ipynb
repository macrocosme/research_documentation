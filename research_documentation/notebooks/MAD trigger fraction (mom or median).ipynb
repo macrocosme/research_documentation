{
 "cells": [
  {
   "cell_type": "code",
   "execution_count": 1,
   "metadata": {},
   "outputs": [],
   "source": [
    "import numpy as np\n",
    "\n",
    "from tqdm import tqdm as progressbar\n",
    "\n",
    "from matplotlib import pyplot as plt\n",
    "from matplotlib import rc\n",
    "\n",
    "rc('font', size=12)\n",
    "rc('axes', titlesize=14)\n",
    "rc('axes', labelsize=14)\n",
    "\n",
    "%matplotlib inline\n",
    "%config InlineBackend.figure_format='retina'"
   ]
  },
  {
   "cell_type": "markdown",
   "metadata": {},
   "source": [
    "# CORE FUNCTIONS"
   ]
  },
  {
   "cell_type": "code",
   "execution_count": 2,
   "metadata": {},
   "outputs": [],
   "source": [
    "def compute_mad(array, med):\n",
    "    series_mad = np.abs(array - med)\n",
    "    return np.median(series_mad)\n",
    "\n",
    "def compute_mom(L):\n",
    "    if len(L) < 10:\n",
    "        L.sort()\n",
    "        return L[int(len(L) / 2)]\n",
    "    S = []\n",
    "    l_index = 0\n",
    "\n",
    "    for l_index in range(0, len(L) - 1, 5):\n",
    "        S.append(L[l_index:l_index + 5])\n",
    "\n",
    "    S.append(L[l_index:])\n",
    "    meds = []\n",
    "\n",
    "    for sub_list in S:\n",
    "        meds.append(compute_mom(sub_list))\n",
    "\n",
    "    L2 = compute_mom(meds)\n",
    "    L1 = L3 = []\n",
    "\n",
    "    for i in L:\n",
    "        if i < L2:\n",
    "            L1.append(i)\n",
    "        if i > L2:\n",
    "            L3.append(i)\n",
    "\n",
    "    if len(L) < len(L1):\n",
    "        return compute_mom(L1)\n",
    "\n",
    "    elif len(L) > len(L1) + 1:\n",
    "        return compute_mom(L3)\n",
    "\n",
    "    else:\n",
    "        return L2\n",
    "\n",
    "def downsample(array, downsampling):\n",
    "    if downsampling == 0:\n",
    "        return array\n",
    "\n",
    "    series = []\n",
    "    for i in range(0, len(array), downsampling):\n",
    "        series.append(np.mean(array[i:i+downsampling]))\n",
    "    return np.asarray(series)\n",
    "\n",
    "\n",
    "def draw(n_samples=2500):\n",
    "    return np.random.normal(0, 1, n_samples)"
   ]
  },
  {
   "cell_type": "markdown",
   "metadata": {},
   "source": [
    "# SNR"
   ]
  },
  {
   "cell_type": "code",
   "execution_count": 3,
   "metadata": {},
   "outputs": [],
   "source": [
    "def snr_median_mad(n_trials=1000, downsampling_levels=250, n_samples=2500):\n",
    "    SNRs = np.zeros([downsampling_levels, n_trials])\n",
    "    zeros = {}\n",
    "\n",
    "    print (\"Computing SNR [median and mad] - %s trials\" % n_trials)\n",
    "    for trial in progressbar(range(n_trials), ascii=True):\n",
    "        distribution = draw(n_samples)\n",
    "        for level in range(downsampling_levels):\n",
    "            distribution = downsample(distribution, level)\n",
    "            med = np.median(distribution)\n",
    "            mad = compute_mad(distribution, med)\n",
    "            if mad != 0:\n",
    "                SNRs[level, trial] = (np.max(distribution) - med) / (mad * 1.48)\n",
    "            else:\n",
    "                SNRs[level, trial] = np.nan\n",
    "\n",
    "    return SNRs, zeros\n",
    "\n",
    "\n",
    "def snr_mom_mad(n_trials=1000, downsampling_levels=250, n_samples=2500):\n",
    "    SNRs = np.zeros([downsampling_levels, n_trials])\n",
    "    zeros = {}\n",
    "\n",
    "    print(\"Computing SNR [mom and mad] - %s trials\" % n_trials)\n",
    "    for trial in progressbar(range(n_trials), ascii=True):\n",
    "        distribution = draw(n_samples)\n",
    "        for level in range(downsampling_levels):\n",
    "            distribution = downsample(distribution, level)\n",
    "            mom = compute_mom(distribution)\n",
    "            mad = compute_mad(distribution, mom)\n",
    "\n",
    "            if mad != 0:\n",
    "                SNRs[level, trial] = (np.max(distribution) - mom) / (mad * 1.48)\n",
    "            else:\n",
    "                SNRs[level, trial] = np.nan\n",
    "                \n",
    "    return SNRs, zeros"
   ]
  },
  {
   "cell_type": "markdown",
   "metadata": {},
   "source": [
    "# PLOT"
   ]
  },
  {
   "cell_type": "code",
   "execution_count": 4,
   "metadata": {},
   "outputs": [],
   "source": [
    "def plot_trigger_ratio(SNRs_median, SNRs_mom, threshold=10, n_trials=1000, n_samples=2500, figure_name=\"trigger_ratio\"):\n",
    "    fig, ax = plt.subplots()\n",
    "\n",
    "    labels = ['median+mad', 'mom+mad']\n",
    "    colors = ['black', 'blue']\n",
    "    marker = ['+', 'o']\n",
    "    \n",
    "    i = 0\n",
    "    for SNRs in [SNRs_median, SNRs_mom]:\n",
    "        first = True\n",
    "        for level in range(SNRs.shape[0]):\n",
    "            \n",
    "            y = len(SNRs[level][np.where(SNRs[level] > threshold)]) / n_trials\n",
    "                \n",
    "            if level != 0:\n",
    "                x = n_samples / level                \n",
    "                if first:\n",
    "                    ax.scatter(x,\n",
    "                               y,\n",
    "                               marker=marker[i],\n",
    "                               color=colors[i],\n",
    "                               label=labels[i],\n",
    "                               )\n",
    "                else: \n",
    "                    ax.scatter(x,\n",
    "                               y,\n",
    "                               marker=marker[i],\n",
    "                               color=colors[i],\n",
    "                               )\n",
    "            else:\n",
    "                x = n_samples\n",
    "                if first:\n",
    "                    ax.scatter(x,\n",
    "                               y,\n",
    "                               marker=marker[i],\n",
    "                               color=colors[i],\n",
    "                               label=labels[i],\n",
    "                               )\n",
    "                else: \n",
    "                    ax.scatter(x,\n",
    "                               y,\n",
    "                               marker=marker[i],\n",
    "                               color=colors[i],\n",
    "                               )\n",
    "            ax.set_xlabel(\"N\")\n",
    "            ax.set_ylabel(\"Trigger fraction (SNR>\" + str(threshold) + \")\")\n",
    "            first = False\n",
    "        i += 1\n",
    "\n",
    "    ax.set_yscale('log')\n",
    "    ax.legend()\n",
    "    filename = \"%s_threshold_%s.pdf\" % (figure_name, threshold)\n",
    "    print (\"Saving file %s\" % filename)\n",
    "    plt.tight_layout()\n",
    "    plt.savefig(filename)\n",
    "\n",
    "def plot_max_snr_per_downsampling_level(SNRs_median, SNRs_mom, n_samples=2500, figure_name=\"max_snr_per_downsampling\"):\n",
    "    fig, ax = plt.subplots()\n",
    "\n",
    "    labels = ['median+mad', 'mom+mad']\n",
    "    colors = ['black', 'blue']\n",
    "    marker = ['+', 'o']\n",
    "    \n",
    "    i = 0\n",
    "    for SNRs in [SNRs_median, SNRs_mom]:\n",
    "        first = True\n",
    "        for level in range(SNRs.shape[0]):\n",
    "            \n",
    "            y = np.nanmax(SNRs[level])\n",
    "                \n",
    "            if level != 0:\n",
    "                x = n_samples / level\n",
    "                if first:\n",
    "                    ax.scatter(x,\n",
    "                               y,\n",
    "                               marker=marker[i],\n",
    "                               color=colors[i],\n",
    "                               label=labels[i],\n",
    "                               )\n",
    "                else:\n",
    "                    ax.scatter(x,\n",
    "                               y,\n",
    "                               marker=marker[i],\n",
    "                               color=colors[i],\n",
    "                               )\n",
    "            else:\n",
    "                x = n_samples\n",
    "                if first:\n",
    "                    ax.scatter(x,\n",
    "                               y,\n",
    "                               marker=marker[i],\n",
    "                               color=colors[i],\n",
    "                               label=labels[i],\n",
    "                               )\n",
    "                else:\n",
    "                    ax.scatter(x,\n",
    "                               y,\n",
    "                               marker=marker[i],\n",
    "                               color=colors[i],\n",
    "                               )\n",
    "            first = False\n",
    "            ax.set_xlabel(\"N\")\n",
    "            ax.set_ylabel(\"Max(SNR)\")\n",
    "        i+=1\n",
    "        \n",
    "\n",
    "    ax.set_yscale('log')\n",
    "    ax.legend()\n",
    "    filename = \"%s.pdf\" % (figure_name)\n",
    "    print(\"Saving file %s\" % filename)\n",
    "    plt.tight_layout()\n",
    "    plt.savefig(filename)"
   ]
  },
  {
   "cell_type": "markdown",
   "metadata": {},
   "source": [
    "# MAIN"
   ]
  },
  {
   "cell_type": "code",
   "execution_count": 5,
   "metadata": {
    "scrolled": false
   },
   "outputs": [
    {
     "name": "stderr",
     "output_type": "stream",
     "text": [
      "  0%|          | 2/1000 [00:00<00:51, 19.56it/s]"
     ]
    },
    {
     "name": "stdout",
     "output_type": "stream",
     "text": [
      "Computing SNR [median and mad] - 1000 trials\n"
     ]
    },
    {
     "name": "stderr",
     "output_type": "stream",
     "text": [
      "100%|##########| 1000/1000 [00:40<00:00, 24.24it/s]\n",
      "  0%|          | 3/1000 [00:00<00:37, 26.44it/s]"
     ]
    },
    {
     "name": "stdout",
     "output_type": "stream",
     "text": [
      "Computing SNR [mom and mad] - 1000 trials\n"
     ]
    },
    {
     "name": "stderr",
     "output_type": "stream",
     "text": [
      "100%|##########| 1000/1000 [00:37<00:00, 26.73it/s]\n"
     ]
    }
   ],
   "source": [
    "n_trials = 1000\n",
    "downsampling_levels = 250\n",
    "n_samples = 2500\n",
    "\n",
    "SNR_median, zeros_median = snr_median_mad(n_trials, downsampling_levels, n_samples)\n",
    "SNR_mom, zeros_mom = snr_mom_mad(n_trials, downsampling_levels, n_samples)"
   ]
  },
  {
   "cell_type": "code",
   "execution_count": 6,
   "metadata": {},
   "outputs": [
    {
     "name": "stderr",
     "output_type": "stream",
     "text": [
      "/usr/local/lib/python3.7/site-packages/ipykernel_launcher.py:13: RuntimeWarning: invalid value encountered in greater\n",
      "  del sys.path[0]\n"
     ]
    },
    {
     "name": "stdout",
     "output_type": "stream",
     "text": [
      "Saving file trigger_ratio_threshold_10.pdf\n"
     ]
    },
    {
     "data": {
      "image/png": "[encoded data removed]",
      "text/plain": [
       "<Figure size 432x288 with 1 Axes>"
      ]
     },
     "metadata": {
      "image/png": {
       "height": 278,
       "width": 421
      },
      "needs_background": "light"
     },
     "output_type": "display_data"
    }
   ],
   "source": [
    "plot_trigger_ratio(SNR_median, SNR_mom, 10)"
   ]
  },
  {
   "cell_type": "code",
   "execution_count": 7,
   "metadata": {},
   "outputs": [
    {
     "name": "stderr",
     "output_type": "stream",
     "text": [
      "/usr/local/lib/python3.7/site-packages/ipykernel_launcher.py:69: RuntimeWarning: All-NaN slice encountered\n"
     ]
    },
    {
     "name": "stdout",
     "output_type": "stream",
     "text": [
      "Saving file max_snr_per_downsampling.pdf\n"
     ]
    },
    {
     "data": {
      "image/png": "[encoded data removed]",
      "text/plain": [
       "<Figure size 432x288 with 1 Axes>"
      ]
     },
     "metadata": {
      "image/png": {
       "height": 278,
       "width": 422
      },
      "needs_background": "light"
     },
     "output_type": "display_data"
    }
   ],
   "source": [
    "plot_max_snr_per_downsampling_level(SNR_median, SNR_mom)"
   ]
  },
  {
   "cell_type": "code",
   "execution_count": null,
   "metadata": {},
   "outputs": [],
   "source": []
  }
 ],
 "metadata": {
  "kernelspec": {
   "display_name": "Python 3",
   "language": "python",
   "name": "python3"
  },
  "language_info": {
   "codemirror_mode": {
    "name": "ipython",
    "version": 3
   },
   "file_extension": ".py",
   "mimetype": "text/x-python",
   "name": "python",
   "nbconvert_exporter": "python",
   "pygments_lexer": "ipython3",
   "version": "3.7.0"
  }
 },
 "nbformat": 4,
 "nbformat_minor": 2
}
