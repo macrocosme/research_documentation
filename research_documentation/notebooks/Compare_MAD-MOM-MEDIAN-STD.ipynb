{
 "cells": [
  {
   "cell_type": "code",
   "execution_count": 1,
   "metadata": {},
   "outputs": [],
   "source": [
    "import numpy as np\n",
    "\n",
    "from tqdm import tqdm as progressbar\n",
    "\n",
    "from matplotlib import pyplot as plt\n",
    "from matplotlib import rc\n",
    "\n",
    "rc('font', size=12)\n",
    "rc('axes', titlesize=14)\n",
    "rc('axes', labelsize=14)\n",
    "\n",
    "%matplotlib inline\n",
    "%config InlineBackend.figure_format='retina'"
   ]
  },
  {
   "cell_type": "markdown",
   "metadata": {},
   "source": [
    "# CORE FUNCTIONS"
   ]
  },
  {
   "cell_type": "code",
   "execution_count": 2,
   "metadata": {},
   "outputs": [],
   "source": [
    "def compute_snr(distribution, med, mad):\n",
    "    return (np.max(distribution) - med) / (mad * 1.48)\n",
    "\n",
    "def compute_mad(array, med):\n",
    "    series_mad = np.abs(array - med)\n",
    "    return np.median(series_mad)\n",
    "\n",
    "def compute_mom(L):\n",
    "    if len(L) < 10:\n",
    "        L.sort()\n",
    "        return L[int(len(L) / 2)]\n",
    "    S = []\n",
    "    l_index = 0\n",
    "\n",
    "    for l_index in range(0, len(L) - 1, 5):\n",
    "        S.append(L[l_index:l_index + 5])\n",
    "\n",
    "    S.append(L[l_index:])\n",
    "    meds = []\n",
    "\n",
    "    for sub_list in S:\n",
    "        meds.append(compute_mom(sub_list))\n",
    "\n",
    "    L2 = compute_mom(meds)\n",
    "    L1 = L3 = []\n",
    "\n",
    "    for i in L:\n",
    "        if i < L2:\n",
    "            L1.append(i)\n",
    "        if i > L2:\n",
    "            L3.append(i)\n",
    "\n",
    "    if len(L) < len(L1):\n",
    "        return compute_mom(L1)\n",
    "\n",
    "    elif len(L) > len(L1) + 1:\n",
    "        return compute_mom(L3)\n",
    "\n",
    "    else:\n",
    "        return L2\n",
    "\n",
    "def downsample(array, downsampling):\n",
    "    if downsampling == 0:\n",
    "        return array\n",
    "\n",
    "    series = []\n",
    "    for i in range(0, len(array), downsampling):\n",
    "        series.append(np.mean(array[i:i+downsampling]))\n",
    "    return np.asarray(series)\n",
    "\n",
    "\n",
    "def draw(n_samples=2500):\n",
    "    return np.random.normal(0, 1, n_samples)"
   ]
  },
  {
   "cell_type": "markdown",
   "metadata": {},
   "source": [
    "# MAIN"
   ]
  },
  {
   "cell_type": "code",
   "execution_count": 3,
   "metadata": {
    "scrolled": false
   },
   "outputs": [
    {
     "name": "stdout",
     "output_type": "stream",
     "text": [
      "i j mom mad snr\n"
     ]
    }
   ],
   "source": [
    "# Simple calls\n",
    "print (\"i\", \"j\", \"mom\", \"mad\", \"snr\")\n",
    "for j in range(10, 2500, 15):\n",
    "    for i in range(1000):\n",
    "        samples = draw(j)\n",
    "        mom = compute_mom(samples)\n",
    "        mad = compute_mad(samples, mom)\n",
    "        snr = compute_snr(samples, mom, mad)\n",
    "        \n",
    "        if mad == 0:\n",
    "            print (samples, i, j, mom, mad, snr)"
   ]
  },
  {
   "cell_type": "code",
   "execution_count": null,
   "metadata": {},
   "outputs": [],
   "source": [
    "from multiprocessing import Pool\n",
    "\n",
    "def SNR(n_samples):\n",
    "    for i in range(1000):\n",
    "        samples = draw(n_samples)\n",
    "        median = np.median(samples)\n",
    "        std = np.std(samples)\n",
    "        mom = compute_mom(samples)\n",
    "        mad = compute_mad(samples, mom)\n",
    "\n",
    "        snr_median_mad = compute_snr(samples, median, mad)\n",
    "        snr_mom_mad = compute_snr(samples, mom, mad)\n",
    "        snr_median_std = (np.max(samples)-median)/std\n",
    "        snr_mom_std = (np.max(samples)-mom)/std\n",
    "\n",
    "with Pool(processes=10) as pool:\n",
    "    pool.map(SNR, range(10, 2500, 15))"
   ]
  },
  {
   "cell_type": "code",
   "execution_count": null,
   "metadata": {},
   "outputs": [],
   "source": []
  }
 ],
 "metadata": {
  "kernelspec": {
   "display_name": "Python 3",
   "language": "python",
   "name": "python3"
  },
  "language_info": {
   "codemirror_mode": {
    "name": "ipython",
    "version": 3
   },
   "file_extension": ".py",
   "mimetype": "text/x-python",
   "name": "python",
   "nbconvert_exporter": "python",
   "pygments_lexer": "ipython3",
   "version": "3.7.0"
  }
 },
 "nbformat": 4,
 "nbformat_minor": 2
}
