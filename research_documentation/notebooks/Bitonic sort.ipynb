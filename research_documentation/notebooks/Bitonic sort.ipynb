{
 "cells": [
  {
   "cell_type": "code",
   "execution_count": 15,
   "metadata": {},
   "outputs": [],
   "source": [
    "def bitonic_sort(up, x):\n",
    "    if len(x) <= 1:\n",
    "        return x\n",
    "    else: \n",
    "        first = bitonic_sort(True, x[:len(x) // 2])\n",
    "        second = bitonic_sort(False, x[len(x) // 2:])\n",
    "        return bitonic_merge(up, first + second)\n",
    "\n",
    "def bitonic_merge(up, x): \n",
    "    # assume input x is bitonic, and sorted list is returned \n",
    "    if len(x) == 1:\n",
    "        return x\n",
    "    else:\n",
    "        bitonic_compare(up, x)\n",
    "        first = bitonic_merge(up, x[:len(x) // 2])\n",
    "        second = bitonic_merge(up, x[len(x) // 2:])\n",
    "        return first + second\n",
    "\n",
    "def bitonic_compare(up, x):\n",
    "    dist = len(x) // 2\n",
    "    for i in range(dist):  \n",
    "        if (x[i] > x[i + dist]) == up:\n",
    "            x[i], x[i + dist] = x[i + dist], x[i] #swap"
   ]
  },
  {
   "cell_type": "code",
   "execution_count": 21,
   "metadata": {},
   "outputs": [
    {
     "data": {
      "text/plain": [
       "[4, 10, 11, 20, 21, 30, 110, 2, 330]"
      ]
     },
     "execution_count": 21,
     "metadata": {},
     "output_type": "execute_result"
    }
   ],
   "source": [
    "bitonic_sort(True, [10, 30, 11, 20, 4, 330, 21, 110, 2])"
   ]
  },
  {
   "cell_type": "code",
   "execution_count": 23,
   "metadata": {},
   "outputs": [
    {
     "data": {
      "text/plain": [
       "[330, 110, 30, 21, 20, 11, 10, 4, 2]"
      ]
     },
     "execution_count": 23,
     "metadata": {},
     "output_type": "execute_result"
    }
   ],
   "source": [
    "bitonic_sort(False, [10, 30, 11, 20, 4, 330, 21, 110, 2])"
   ]
  },
  {
   "cell_type": "code",
   "execution_count": 24,
   "metadata": {},
   "outputs": [
    {
     "data": {
      "text/plain": [
       "[330, 110, 30, 21, 20, 11, 10, 4, 2]"
      ]
     },
     "execution_count": 24,
     "metadata": {},
     "output_type": "execute_result"
    }
   ],
   "source": [
    "bitonic_sort(False, [10, 30, 11, 20, 4, 330, 21, 110, 2])"
   ]
  },
  {
   "cell_type": "code",
   "execution_count": 6,
   "metadata": {},
   "outputs": [
    {
     "data": {
      "text/plain": [
       "0.6666666666666666"
      ]
     },
     "execution_count": 6,
     "metadata": {},
     "output_type": "execute_result"
    }
   ],
   "source": [
    "2/3"
   ]
  },
  {
   "cell_type": "code",
   "execution_count": 7,
   "metadata": {},
   "outputs": [
    {
     "data": {
      "text/plain": [
       "0"
      ]
     },
     "execution_count": 7,
     "metadata": {},
     "output_type": "execute_result"
    }
   ],
   "source": [
    "2//3"
   ]
  },
  {
   "cell_type": "code",
   "execution_count": null,
   "metadata": {},
   "outputs": [],
   "source": []
  }
 ],
 "metadata": {
  "kernelspec": {
   "display_name": "Python 3",
   "language": "python",
   "name": "python3"
  },
  "language_info": {
   "codemirror_mode": {
    "name": "ipython",
    "version": 3
   },
   "file_extension": ".py",
   "mimetype": "text/x-python",
   "name": "python",
   "nbconvert_exporter": "python",
   "pygments_lexer": "ipython3",
   "version": "3.7.0"
  }
 },
 "nbformat": 4,
 "nbformat_minor": 2
}
