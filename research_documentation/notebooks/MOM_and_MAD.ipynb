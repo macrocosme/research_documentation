{
 "cells": [
  {
   "cell_type": "markdown",
   "metadata": {},
   "source": [
    "# Method\n",
    "\n",
    "--------------\n",
    "\n",
    "for momad, we simply compute: \n",
    "\n",
    "    - max,\n",
    "    - median of medians.\n",
    "\n",
    "Then compute: \n",
    "\n",
    "    - median of medians absolute deviation (that is another median of medians but subtracting the previous median from all samples)\n",
    "\n",
    "Then we do \n",
    "\n",
    "    - (max - median of medians) /  (mad * x), \n",
    "    \n",
    "where x is something like 1.48\n",
    "\n",
    "--------------"
   ]
  },
  {
   "cell_type": "markdown",
   "metadata": {},
   "source": [
    "# Recursive median of medians"
   ]
  },
  {
   "cell_type": "code",
   "execution_count": 1,
   "metadata": {},
   "outputs": [],
   "source": [
    "def compute_mom(L):\n",
    "    if len(L) < 10:\n",
    "        L.sort()\n",
    "        return L[int(len(L)/2)]\n",
    "    S = []\n",
    "    lIndex = 0\n",
    "    \n",
    "    for lIndex in range(0,len(L)-1,5):\n",
    "        S.append(L[lIndex:lIndex+5])\n",
    "    \n",
    "    S.append(L[lIndex:])\n",
    "    Meds = []\n",
    "    \n",
    "    for subList in S:\n",
    "        Meds.append(compute_mom(subList))\n",
    "    \n",
    "    L2 = compute_mom(Meds)\n",
    "    L1 = L3 = []\n",
    "    \n",
    "    for i in L:\n",
    "        if i < L2:\n",
    "            L1.append(i)\n",
    "        if i > L2:\n",
    "            L3.append(i)\n",
    "    \n",
    "    if len(L) < len(L1):\n",
    "        return compute_mom(L1)\n",
    "    \n",
    "    elif len(L) > len(L1) + 1:\n",
    "        return compute_mom(L3)\n",
    "    \n",
    "    else:\n",
    "        return L2"
   ]
  },
  {
   "cell_type": "markdown",
   "metadata": {},
   "source": [
    "# Generate SNR data"
   ]
  },
  {
   "cell_type": "code",
   "execution_count": 2,
   "metadata": {},
   "outputs": [],
   "source": [
    "import numpy as np\n",
    "\n",
    "def init_dict_list(dictionary, key):\n",
    "    try: \n",
    "        dictionary[key]\n",
    "    except KeyError:\n",
    "        dictionary[key] = []\n",
    "    return dictionary\n",
    "\n",
    "def noise_transients_experiment(print_log=False):\n",
    "    seriess = {}\n",
    "    lens = []\n",
    "    maxima = {}\n",
    "    moms = {}\n",
    "    mads = {}\n",
    "    snrs = {}\n",
    "   \n",
    "    n_loops = 10000\n",
    "    n_samples = 2500\n",
    "    counter_start = 250\n",
    "    counter_end = 0\n",
    "    counter_step = -25\n",
    "\n",
    "    if print_log:\n",
    "        print (\"downsampling\", \"len\", \"maximum\", \"mom\", \"mad\")\n",
    "    for i in range(n_loops):\n",
    "        array = np.random.normal(0,1,n_samples)\n",
    "\n",
    "        for downsampling in range(counter_start, counter_end, counter_step):\n",
    "            series = array[::len(array)//(len(array)//downsampling)]\n",
    "            \n",
    "            # MAX\n",
    "            maximum = np.nanmax(series)\n",
    "\n",
    "            # MOMz\n",
    "            mom = compute_mom(series)\n",
    "\n",
    "            # MAD\n",
    "            series_mad = series - mom\n",
    "            mad = np.median(series_mad)\n",
    "            \n",
    "            if print_log:\n",
    "                print (downsampling, lens, maximum, mom, mad)\n",
    "            \n",
    "            snr = (maximum-mom)/(mad*1.48)\n",
    "            if snr >= 10:\n",
    "                key = len(series)\n",
    "                if key not in lens:\n",
    "                    lens.append(key)\n",
    "                init_dict_list(maxima,key)[key].append(maximum)\n",
    "                init_dict_list(moms,key)[key].append(mom)\n",
    "                init_dict_list(mads,key)[key].append(mad)\n",
    "                init_dict_list(snrs,key)[key].append(snr)\n",
    "\n",
    "    return n_loops, n_samples, counter_start, counter_end, counter_step, seriess, lens, maxima, moms, mads, snrs"
   ]
  },
  {
   "cell_type": "code",
   "execution_count": 3,
   "metadata": {},
   "outputs": [
    {
     "name": "stderr",
     "output_type": "stream",
     "text": [
      "/usr/local/lib/python3.7/site-packages/ipykernel_launcher.py:45: RuntimeWarning: divide by zero encountered in double_scalars\n"
     ]
    }
   ],
   "source": [
    "n_loops, n_samples, counter_start, counter_end, counter_step, seriess, lens, maxima, moms, mads, snrs = noise_transients_experiment(False)"
   ]
  },
  {
   "cell_type": "markdown",
   "metadata": {},
   "source": [
    "## Print some info"
   ]
  },
  {
   "cell_type": "code",
   "execution_count": 4,
   "metadata": {},
   "outputs": [
    {
     "name": "stdout",
     "output_type": "stream",
     "text": [
      "Triggers:\n",
      "=========\n"
     ]
    },
    {
     "ename": "NameError",
     "evalue": "name 'loop_variables' is not defined",
     "output_type": "error",
     "traceback": [
      "\u001b[0;31m---------------------------------------------------------------------------\u001b[0m",
      "\u001b[0;31mNameError\u001b[0m                                 Traceback (most recent call last)",
      "\u001b[0;32m<ipython-input-4-c15f11f21912>\u001b[0m in \u001b[0;36m<module>\u001b[0;34m()\u001b[0m\n\u001b[1;32m      1\u001b[0m \u001b[0mprint\u001b[0m \u001b[0;34m(\u001b[0m\u001b[0;34m\"Triggers:\"\u001b[0m\u001b[0;34m)\u001b[0m\u001b[0;34m\u001b[0m\u001b[0m\n\u001b[1;32m      2\u001b[0m \u001b[0mprint\u001b[0m \u001b[0;34m(\u001b[0m\u001b[0;34m\"=========\"\u001b[0m\u001b[0;34m)\u001b[0m\u001b[0;34m\u001b[0m\u001b[0m\n\u001b[0;32m----> 3\u001b[0;31m \u001b[0;32mfor\u001b[0m \u001b[0mi\u001b[0m \u001b[0;32min\u001b[0m \u001b[0mrange\u001b[0m\u001b[0;34m(\u001b[0m\u001b[0mloop_variables\u001b[0m\u001b[0;34m[\u001b[0m\u001b[0;34m\"n_loops\"\u001b[0m\u001b[0;34m]\u001b[0m\u001b[0;34m)\u001b[0m\u001b[0;34m:\u001b[0m\u001b[0;34m\u001b[0m\u001b[0m\n\u001b[0m\u001b[1;32m      4\u001b[0m     \u001b[0mprint\u001b[0m \u001b[0;34m(\u001b[0m\u001b[0;34m\"Array of\"\u001b[0m\u001b[0;34m,\u001b[0m \u001b[0mlens\u001b[0m\u001b[0;34m[\u001b[0m\u001b[0mi\u001b[0m\u001b[0;34m]\u001b[0m\u001b[0;34m)\u001b[0m\u001b[0;34m\u001b[0m\u001b[0m\n\u001b[1;32m      5\u001b[0m \u001b[0;31m#     print (\"series:\\t\", seriess[j])\u001b[0m\u001b[0;34m\u001b[0m\u001b[0;34m\u001b[0m\u001b[0m\n",
      "\u001b[0;31mNameError\u001b[0m: name 'loop_variables' is not defined"
     ]
    }
   ],
   "source": [
    "print (\"Triggers:\")\n",
    "print (\"=========\")\n",
    "for i in range(loop_variables[\"n_loops\"]):\n",
    "    print (\"Array of\", lens[i])\n",
    "#     print (\"series:\\t\", seriess[j])\n",
    "    print (\"maximum\\t\\t\", maxima[i])\n",
    "    print (\"mom\\t\\t\", moms[i])\n",
    "    print (\"momad\\t\\t\", mads[i])\n",
    "    print (\"max_snr\\t\", snrs[i])\n",
    "    print ()"
   ]
  },
  {
   "cell_type": "markdown",
   "metadata": {},
   "source": [
    "# Make figure"
   ]
  },
  {
   "cell_type": "code",
   "execution_count": 5,
   "metadata": {},
   "outputs": [],
   "source": [
    "from matplotlib import pyplot as plt\n",
    "from matplotlib import rc\n",
    "\n",
    "%matplotlib inline\n",
    "%config InlineBackend.figure_format='retina'\n",
    "\n",
    "rc('font', size=12)\n",
    "rc('axes', titlesize=14)\n",
    "rc('axes', labelsize=14)"
   ]
  },
  {
   "cell_type": "code",
   "execution_count": 14,
   "metadata": {
    "scrolled": true
   },
   "outputs": [],
   "source": [
    "def figure_trigger_fraction_vs_N(n_loops, snrs, lens, figure_name='trigger_fraction_vs_N', extension='.pdf'):\n",
    "    fig, ax = plt.subplots()\n",
    "\n",
    "    ax.set_title(\"Gaussian noise data: Trigger fraction v number of samples\")\n",
    "    for key in lens: \n",
    "        print (key)\n",
    "        ax.scatter(key, len(snrs[key])/n_loops, color='black')\n",
    "        ax.set_xlabel(\"N\")\n",
    "        ax.set_ylabel(\"Trigger fraction\")\n",
    "\n",
    "    plt.savefig(figure_name + extension)"
   ]
  },
  {
   "cell_type": "code",
   "execution_count": 15,
   "metadata": {},
   "outputs": [
    {
     "name": "stdout",
     "output_type": "stream",
     "text": [
      "13\n",
      "100\n",
      "15\n",
      "25\n",
      "10\n",
      "50\n",
      "12\n",
      "20\n",
      "34\n",
      "17\n"
     ]
    },
    {
     "data": {
      "image/png": "[encoded data removed]",
      "text/plain": [
       "<Figure size 432x288 with 1 Axes>"
      ]
     },
     "metadata": {
      "image/png": {
       "height": 283,
       "width": 434
      },
      "needs_background": "light"
     },
     "output_type": "display_data"
    }
   ],
   "source": [
    "figure_trigger_fraction_vs_N(n_loops, snrs, lens)"
   ]
  },
  {
   "cell_type": "code",
   "execution_count": null,
   "metadata": {},
   "outputs": [],
   "source": []
  },
  {
   "cell_type": "code",
   "execution_count": null,
   "metadata": {},
   "outputs": [],
   "source": []
  }
 ],
 "metadata": {
  "kernelspec": {
   "display_name": "Python 3",
   "language": "python",
   "name": "python3"
  },
  "language_info": {
   "codemirror_mode": {
    "name": "ipython",
    "version": 3
   },
   "file_extension": ".py",
   "mimetype": "text/x-python",
   "name": "python",
   "nbconvert_exporter": "python",
   "pygments_lexer": "ipython3",
   "version": "3.7.0"
  }
 },
 "nbformat": 4,
 "nbformat_minor": 2
}
