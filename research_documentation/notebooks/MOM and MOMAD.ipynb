{
 "cells": [
  {
   "cell_type": "markdown",
   "metadata": {},
   "source": [
    "for momad, we simply compute: \n",
    "\n",
    "    - max,\n",
    "    - median of medians.\n",
    "\n",
    "Then compute: \n",
    "\n",
    "    - median of medians absolute deviation (that is another median of medians but subtracting the previous median from all samples)\n",
    "\n",
    "Then we do \n",
    "\n",
    "    - (max - median of medians) /  mad * x, \n",
    "    \n",
    "where x is something like 1.48"
   ]
  },
  {
   "cell_type": "markdown",
   "metadata": {},
   "source": [
    "# Test 1"
   ]
  },
  {
   "cell_type": "code",
   "execution_count": null,
   "metadata": {},
   "outputs": [],
   "source": [
    "import numpy as np\n",
    "\n",
    "maxima = {0:[], 1:[], 2:[], 3:[]}\n",
    "moms = {0:[], 1:[], 2:[], 3:[]}\n",
    "mads = {0:[], 1:[], 2:[], 3:[]}\n",
    "snrs = {0:[], 1:[], 2:[], 3:[]}\n",
    "\n",
    "for i in range(10):\n",
    "    j = 0\n",
    "    # Generate a few arrays of different length\n",
    "    a = np.random.rand(10)\n",
    "    b = np.random.rand(25)\n",
    "    c = np.random.rand(100)\n",
    "    d = np.random.rand(250)\n",
    "    for series in [a, b, c, d]:\n",
    "        # MAX\n",
    "        maximum = np.nanmax(series)\n",
    "\n",
    "        # MOM\n",
    "        series_mom = np.abs(series-np.median(series))\n",
    "        mom = np.median(series_mom)\n",
    "\n",
    "        # MAD\n",
    "        series_mad = series - mom\n",
    "        mad = np.median(series_mad)    \n",
    "\n",
    "        # Max Signal-to-Noise Ratio\n",
    "        snr = (maximum-mom)/(mad*1.48)\n",
    "        \n",
    "        maxima[j].append(maximum)\n",
    "        moms[j].append(mom)\n",
    "        mads[j].append(mad)\n",
    "        snrs[j].append(snr)\n",
    "        \n",
    "        j+=1\n",
    "\n",
    "#     print (\"series\\t\\t\", series)\n",
    "j = 0\n",
    "for series in [a, b, c, d]:\n",
    "    print (\"maximum\\t\\t\", maxima[j])\n",
    "    print (\"mom\\t\\t\", moms[j])\n",
    "    print (\"momad\\t\\t\", mads[j])\n",
    "    print (\"max_snr\\t\", snrs[j])\n",
    "    print ()\n",
    "    j+=1"
   ]
  },
  {
   "cell_type": "markdown",
   "metadata": {},
   "source": [
    "# Test 2"
   ]
  },
  {
   "cell_type": "code",
   "execution_count": null,
   "metadata": {},
   "outputs": [],
   "source": [
    "import numpy as np\n",
    "\n",
    "lens = {0:[], 1:[], 2:[], 3:[]}\n",
    "maxima = {0:[], 1:[], 2:[], 3:[]}\n",
    "moms = {0:[], 1:[], 2:[], 3:[]}\n",
    "mads = {0:[], 1:[], 2:[], 3:[]}\n",
    "snrs = {0:[], 1:[], 2:[], 3:[]}\n",
    "\n",
    "for i in range(10):\n",
    "    j = 0\n",
    "    # Generate a few arrays of different length\n",
    "    array = np.random.rand(2500)\n",
    "    for downsampling in [1, 2, 100, 250]:\n",
    "        series = array[::len(array)//(len(array)//downsampling)]\n",
    "        # MAX\n",
    "        maximum = np.nanmax(series)\n",
    "\n",
    "        # MOM\n",
    "        series_mom = np.abs(series-np.median(series))\n",
    "        mom = np.median(series_mom)\n",
    "\n",
    "        # MAD\n",
    "        series_mad = series - mom\n",
    "        mad = np.median(series_mad)    \n",
    "\n",
    "        # Max Signal-to-Noise Ratio\n",
    "        snr = (maximum-mom)/(mad*1.48)\n",
    "\n",
    "        lens[j] = len(series)\n",
    "        maxima[j].append(maximum)\n",
    "        moms[j].append(mom)\n",
    "        mads[j].append(mad)\n",
    "        snrs[j].append(snr)\n",
    "        \n",
    "        j+=1\n",
    "\n",
    "#     print (\"series\\t\\t\", series)\n",
    "j = 0\n",
    "for series in [a, b, c, d]:\n",
    "    print (\"Array of\", lens[j])\n",
    "    print (\"maximum\\t\\t\", maxima[j])\n",
    "    print (\"mom\\t\\t\", moms[j])\n",
    "    print (\"momad\\t\\t\", mads[j])\n",
    "    print (\"max_snr\\t\", snrs[j])\n",
    "    print ()\n",
    "    j+=1"
   ]
  },
  {
   "cell_type": "markdown",
   "metadata": {},
   "source": [
    "# GOOD SECTION"
   ]
  },
  {
   "cell_type": "code",
   "execution_count": 2,
   "metadata": {},
   "outputs": [],
   "source": [
    "def compute_mom(L):\n",
    "    if len(L) < 10:\n",
    "        L.sort()\n",
    "        return L[int(len(L)/2)]\n",
    "    S = []\n",
    "    lIndex = 0\n",
    "    \n",
    "    for lIndex in range(0,len(L)-1,5):\n",
    "        S.append(L[lIndex:lIndex+5])\n",
    "\n",
    "#     while lIndex+5 < len(L)-1:\n",
    "#         S.append(L[lIndex:lIndex+5])\n",
    "#         lIndex += 5\n",
    "    \n",
    "    S.append(L[lIndex:])\n",
    "    Meds = []\n",
    "    \n",
    "    for subList in S:\n",
    "        Meds.append(compute_mom(subList))\n",
    "    \n",
    "    L2 = compute_mom(Meds)\n",
    "    L1 = L3 = []\n",
    "    \n",
    "    for i in L:\n",
    "        if i < L2:\n",
    "            L1.append(i)\n",
    "        if i > L2:\n",
    "            L3.append(i)\n",
    "    \n",
    "    if len(L) < len(L1):\n",
    "        return compute_mom(L1)\n",
    "    \n",
    "    elif len(L) > len(L1) + 1:\n",
    "        return compute_mom(L3)\n",
    "    \n",
    "    else:\n",
    "        return L2"
   ]
  },
  {
   "cell_type": "markdown",
   "metadata": {},
   "source": [
    "## Generate SNR data"
   ]
  },
  {
   "cell_type": "code",
   "execution_count": 12,
   "metadata": {},
   "outputs": [],
   "source": [
    "import numpy as np\n",
    "\n",
    "def init_dict_list(dictionary, key):\n",
    "    try: \n",
    "        dictionary[key]\n",
    "    except KeyError:\n",
    "        dictionary[key] = []\n",
    "    return dictionary\n",
    "\n",
    "def noise_transients_experiment(print_log=False):\n",
    "    seriess = {}\n",
    "    lens = {}\n",
    "    maxima = {}\n",
    "    moms = {}\n",
    "    mads = {}\n",
    "    snrs = {}\n",
    "\n",
    "    downsample_factors = [250, 200, 150, 100, 50, 25, ]#10, 1,]\n",
    "    loop = 1000\n",
    "\n",
    "    if print_log:\n",
    "        print (\"downsampling\", \"maximum\", \"mom\", \"mad\")\n",
    "    for i in range(loop):\n",
    "        # Generate a few arrays of different length\n",
    "        array = np.random.normal(0,1,2500)\n",
    "\n",
    "        for downsampling in range(300, 0, -5):\n",
    "            series = array[::len(array)//(len(array)//downsampling)]\n",
    "            # MAX\n",
    "            maximum = np.nanmax(series)\n",
    "\n",
    "            # MOMz\n",
    "            mom = compute_mom(series)\n",
    "\n",
    "            # MAD\n",
    "            series_mad = series - mom\n",
    "            mad = np.median(series_mad)    \n",
    "\n",
    "            if print_log:\n",
    "                print (downsampling, maximum, mom, mad)\n",
    "            snr = (maximum-mom)/(mad*1.48)\n",
    "\n",
    "            lens[i] = len(series)\n",
    "            if snr >= 10:\n",
    "                init_dict_list(maxima,i)[i].append(maximum)\n",
    "                init_dict_list(moms,i)[i].append(mom)\n",
    "                init_dict_list(mads,i)[i].append(mad)\n",
    "                init_dict_list(snrs,i)[i].append(snr)\n",
    "\n",
    "    return seriess, lens, maxima, moms, mads, snrs"
   ]
  },
  {
   "cell_type": "code",
   "execution_count": 13,
   "metadata": {},
   "outputs": [
    {
     "name": "stderr",
     "output_type": "stream",
     "text": [
      "/usr/local/lib/python3.7/site-packages/ipykernel_launcher.py:41: RuntimeWarning: divide by zero encountered in double_scalars\n"
     ]
    }
   ],
   "source": [
    "seriess, lens, maxima, moms, mads, snrs = noise_transients_experiment(False)"
   ]
  },
  {
   "cell_type": "markdown",
   "metadata": {},
   "source": [
    "### Print some info"
   ]
  },
  {
   "cell_type": "code",
   "execution_count": 14,
   "metadata": {},
   "outputs": [
    {
     "name": "stdout",
     "output_type": "stream",
     "text": [
      "Triggers:\n",
      "=========\n"
     ]
    },
    {
     "ename": "NameError",
     "evalue": "name 'downsample_factors' is not defined",
     "output_type": "error",
     "traceback": [
      "\u001b[0;31m---------------------------------------------------------------------------\u001b[0m",
      "\u001b[0;31mNameError\u001b[0m                                 Traceback (most recent call last)",
      "\u001b[0;32m<ipython-input-14-92fe7d748574>\u001b[0m in \u001b[0;36m<module>\u001b[0;34m()\u001b[0m\n\u001b[1;32m      1\u001b[0m \u001b[0mprint\u001b[0m \u001b[0;34m(\u001b[0m\u001b[0;34m\"Triggers:\"\u001b[0m\u001b[0;34m)\u001b[0m\u001b[0;34m\u001b[0m\u001b[0m\n\u001b[1;32m      2\u001b[0m \u001b[0mprint\u001b[0m \u001b[0;34m(\u001b[0m\u001b[0;34m\"=========\"\u001b[0m\u001b[0;34m)\u001b[0m\u001b[0;34m\u001b[0m\u001b[0m\n\u001b[0;32m----> 3\u001b[0;31m \u001b[0;32mfor\u001b[0m \u001b[0mj\u001b[0m \u001b[0;32min\u001b[0m \u001b[0mrange\u001b[0m\u001b[0;34m(\u001b[0m\u001b[0mlen\u001b[0m\u001b[0;34m(\u001b[0m\u001b[0mdownsample_factors\u001b[0m\u001b[0;34m)\u001b[0m\u001b[0;34m)\u001b[0m\u001b[0;34m:\u001b[0m\u001b[0;34m\u001b[0m\u001b[0m\n\u001b[0m\u001b[1;32m      4\u001b[0m     \u001b[0mprint\u001b[0m \u001b[0;34m(\u001b[0m\u001b[0;34m\"Array of\"\u001b[0m\u001b[0;34m,\u001b[0m \u001b[0mlens\u001b[0m\u001b[0;34m[\u001b[0m\u001b[0mj\u001b[0m\u001b[0;34m]\u001b[0m\u001b[0;34m)\u001b[0m\u001b[0;34m\u001b[0m\u001b[0m\n\u001b[1;32m      5\u001b[0m \u001b[0;31m#     print (\"series:\\t\", seriess[j])\u001b[0m\u001b[0;34m\u001b[0m\u001b[0;34m\u001b[0m\u001b[0m\n",
      "\u001b[0;31mNameError\u001b[0m: name 'downsample_factors' is not defined"
     ]
    }
   ],
   "source": [
    "print (\"Triggers:\")\n",
    "print (\"=========\")\n",
    "for j in range(300, 0, -5):\n",
    "    print (\"Array of\", lens[j])\n",
    "#     print (\"series:\\t\", seriess[j])\n",
    "    print (\"maximum\\t\\t\", maxima[j])\n",
    "    print (\"mom\\t\\t\", moms[j])\n",
    "    print (\"momad\\t\\t\", mads[j])\n",
    "    print (\"max_snr\\t\", snrs[j])\n",
    "    print ()"
   ]
  },
  {
   "cell_type": "code",
   "execution_count": 8,
   "metadata": {
    "scrolled": true
   },
   "outputs": [
    {
     "ename": "KeyError",
     "evalue": "300",
     "output_type": "error",
     "traceback": [
      "\u001b[0;31m---------------------------------------------------------------------------\u001b[0m",
      "\u001b[0;31mKeyError\u001b[0m                                  Traceback (most recent call last)",
      "\u001b[0;32m<ipython-input-8-54521aac27cd>\u001b[0m in \u001b[0;36m<module>\u001b[0;34m()\u001b[0m\n\u001b[1;32m     11\u001b[0m \u001b[0;31m#for j in range(len(downsample_factors)):\u001b[0m\u001b[0;34m\u001b[0m\u001b[0;34m\u001b[0m\u001b[0m\n\u001b[1;32m     12\u001b[0m \u001b[0;32mfor\u001b[0m \u001b[0mj\u001b[0m \u001b[0;32min\u001b[0m \u001b[0mrange\u001b[0m\u001b[0;34m(\u001b[0m\u001b[0;36m300\u001b[0m\u001b[0;34m,\u001b[0m \u001b[0;36m0\u001b[0m\u001b[0;34m,\u001b[0m \u001b[0;34m-\u001b[0m\u001b[0;36m5\u001b[0m\u001b[0;34m)\u001b[0m\u001b[0;34m:\u001b[0m\u001b[0;34m\u001b[0m\u001b[0m\n\u001b[0;32m---> 13\u001b[0;31m     \u001b[0max\u001b[0m\u001b[0;34m.\u001b[0m\u001b[0mscatter\u001b[0m\u001b[0;34m(\u001b[0m\u001b[0mlens\u001b[0m\u001b[0;34m[\u001b[0m\u001b[0mj\u001b[0m\u001b[0;34m]\u001b[0m\u001b[0;34m,\u001b[0m \u001b[0mlen\u001b[0m\u001b[0;34m(\u001b[0m\u001b[0msnrs\u001b[0m\u001b[0;34m[\u001b[0m\u001b[0mj\u001b[0m\u001b[0;34m]\u001b[0m\u001b[0;34m)\u001b[0m\u001b[0;34m/\u001b[0m\u001b[0mloop\u001b[0m\u001b[0;34m,\u001b[0m \u001b[0mlabel\u001b[0m\u001b[0;34m=\u001b[0m \u001b[0mstr\u001b[0m\u001b[0;34m(\u001b[0m\u001b[0mlens\u001b[0m\u001b[0;34m[\u001b[0m\u001b[0mj\u001b[0m\u001b[0;34m]\u001b[0m\u001b[0;34m)\u001b[0m \u001b[0;34m+\u001b[0m \u001b[0;34m\" samples\"\u001b[0m\u001b[0;34m)\u001b[0m\u001b[0;34m\u001b[0m\u001b[0m\n\u001b[0m\u001b[1;32m     14\u001b[0m     \u001b[0max\u001b[0m\u001b[0;34m.\u001b[0m\u001b[0mset_xlabel\u001b[0m\u001b[0;34m(\u001b[0m\u001b[0;34m\"N\"\u001b[0m\u001b[0;34m)\u001b[0m\u001b[0;34m\u001b[0m\u001b[0m\n\u001b[1;32m     15\u001b[0m     \u001b[0max\u001b[0m\u001b[0;34m.\u001b[0m\u001b[0mset_ylabel\u001b[0m\u001b[0;34m(\u001b[0m\u001b[0;34m\"Triggers fraction\"\u001b[0m\u001b[0;34m)\u001b[0m\u001b[0;34m\u001b[0m\u001b[0m\n",
      "\u001b[0;31mKeyError\u001b[0m: 300"
     ]
    },
    {
     "data": {
      "image/png": "[encoded data removed]",
      "text/plain": [
       "<Figure size 432x288 with 1 Axes>"
      ]
     },
     "metadata": {
      "image/png": {
       "height": 255,
       "width": 385
      },
      "needs_background": "light"
     },
     "output_type": "display_data"
    }
   ],
   "source": [
    "from matplotlib import pyplot as plt\n",
    "%matplotlib inline\n",
    "%config InlineBackend.figure_format='retina'\n",
    "from matplotlib import rc\n",
    "rc('font', size=12)\n",
    "rc('axes', titlesize=14)\n",
    "rc('axes', labelsize=14)\n",
    "\n",
    "fig, ax = plt.subplots()\n",
    "\n",
    "#for j in range(len(downsample_factors)):\n",
    "for j in range(300, 0, -5):\n",
    "    ax.scatter(lens[j], len(snrs[j])/loop, label= str(lens[j]) + \" samples\")\n",
    "    ax.set_xlabel(\"N\")\n",
    "    ax.set_ylabel(\"Triggers fraction\")\n",
    "    ax.legend()\n",
    "    \n",
    "plt.savefig(\"10000windows_method2.pdf\")"
   ]
  },
  {
   "cell_type": "code",
   "execution_count": null,
   "metadata": {},
   "outputs": [],
   "source": [
    "normal_dist = np.random.normal(0,1,2500)"
   ]
  },
  {
   "cell_type": "code",
   "execution_count": null,
   "metadata": {},
   "outputs": [],
   "source": [
    "print (np.min(normal_dist), np.max(normal_dist))"
   ]
  },
  {
   "cell_type": "code",
   "execution_count": null,
   "metadata": {},
   "outputs": [],
   "source": [
    "for lIndex in range(0,20,5):\n",
    "    print (lIndex)"
   ]
  },
  {
   "cell_type": "code",
   "execution_count": null,
   "metadata": {},
   "outputs": [],
   "source": [
    "for downsampling in range(300, 0, -50):\n",
    "    print (downsampling)"
   ]
  },
  {
   "cell_type": "code",
   "execution_count": null,
   "metadata": {},
   "outputs": [],
   "source": [
    "dictionary = {}\n",
    "if dictionary[2] != None: \n",
    "    print (\"allo\")"
   ]
  },
  {
   "cell_type": "code",
   "execution_count": null,
   "metadata": {},
   "outputs": [],
   "source": []
  }
 ],
 "metadata": {
  "kernelspec": {
   "display_name": "Python 3",
   "language": "python",
   "name": "python3"
  },
  "language_info": {
   "codemirror_mode": {
    "name": "ipython",
    "version": 3
   },
   "file_extension": ".py",
   "mimetype": "text/x-python",
   "name": "python",
   "nbconvert_exporter": "python",
   "pygments_lexer": "ipython3",
   "version": "3.7.0"
  }
 },
 "nbformat": 4,
 "nbformat_minor": 2
}
