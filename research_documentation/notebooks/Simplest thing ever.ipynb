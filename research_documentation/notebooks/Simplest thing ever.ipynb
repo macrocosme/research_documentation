{
 "cells": [
  {
   "cell_type": "code",
   "execution_count": 1,
   "metadata": {},
   "outputs": [],
   "source": [
    "import numpy as np\n",
    "\n",
    "from matplotlib import pyplot as plt\n",
    "from matplotlib import rc\n",
    "\n",
    "%matplotlib inline\n",
    "%config InlineBackend.figure_format='retina'\n",
    "\n",
    "rc('font', size=12)\n",
    "rc('axes', titlesize=14)\n",
    "rc('axes', labelsize=14)"
   ]
  },
  {
   "cell_type": "code",
   "execution_count": 2,
   "metadata": {},
   "outputs": [],
   "source": [
    "n_samples = 25\n",
    "array = np.random.normal(0, 1, n_samples)"
   ]
  },
  {
   "cell_type": "code",
   "execution_count": 5,
   "metadata": {},
   "outputs": [
    {
     "data": {
      "text/plain": [
       "(array([1., 0., 1., 0., 1., 2., 1., 2., 2., 1., 3., 0., 0., 2., 1., 4., 1.,\n",
       "        1., 0., 0., 1., 0., 0., 0., 1.]),\n",
       " array([-1.78675986, -1.64180305, -1.49684624, -1.35188942, -1.20693261,\n",
       "        -1.06197579, -0.91701898, -0.77206216, -0.62710535, -0.48214853,\n",
       "        -0.33719172, -0.19223491, -0.04727809,  0.09767872,  0.24263554,\n",
       "         0.38759235,  0.53254917,  0.67750598,  0.82246279,  0.96741961,\n",
       "         1.11237642,  1.25733324,  1.40229005,  1.54724687,  1.69220368,\n",
       "         1.83716049]),\n",
       " <a list of 25 Patch objects>)"
      ]
     },
     "execution_count": 5,
     "metadata": {},
     "output_type": "execute_result"
    },
    {
     "data": {
      "image/png": "[encoded data removed]",
      "text/plain": [
       "<Figure size 432x288 with 1 Axes>"
      ]
     },
     "metadata": {
      "image/png": {
       "height": 250,
       "width": 378
      },
      "needs_background": "light"
     },
     "output_type": "display_data"
    }
   ],
   "source": [
    "plt.hist(array, 25)"
   ]
  },
  {
   "cell_type": "code",
   "execution_count": 6,
   "metadata": {},
   "outputs": [],
   "source": [
    "med = np.median(array)"
   ]
  },
  {
   "cell_type": "code",
   "execution_count": 7,
   "metadata": {},
   "outputs": [
    {
     "data": {
      "text/plain": [
       "-0.22882947553474337"
      ]
     },
     "execution_count": 7,
     "metadata": {},
     "output_type": "execute_result"
    }
   ],
   "source": [
    "med"
   ]
  },
  {
   "cell_type": "code",
   "execution_count": 8,
   "metadata": {},
   "outputs": [],
   "source": [
    "series_mad = array - med\n",
    "mad = np.median(series_mad)"
   ]
  },
  {
   "cell_type": "code",
   "execution_count": 9,
   "metadata": {},
   "outputs": [
    {
     "data": {
      "text/plain": [
       "0.0"
      ]
     },
     "execution_count": 9,
     "metadata": {},
     "output_type": "execute_result"
    }
   ],
   "source": [
    "mad"
   ]
  },
  {
   "cell_type": "code",
   "execution_count": 10,
   "metadata": {},
   "outputs": [
    {
     "data": {
      "text/plain": [
       "array([-0.59093703, -0.47460531, -0.73644604,  0.40652631, -0.2812963 ,\n",
       "        0.        , -0.54084575,  0.47900851, -1.26646754,  1.03525249,\n",
       "        0.90205611, -0.0996712 ,  0.73407404,  2.06598997, -1.55793039,\n",
       "        0.41542668,  0.69131303, -0.25407241,  0.63133732, -0.75418537,\n",
       "        1.42487711, -0.96078331,  0.67752951, -0.22113446,  0.02492489])"
      ]
     },
     "execution_count": 10,
     "metadata": {},
     "output_type": "execute_result"
    }
   ],
   "source": [
    "series_mad"
   ]
  },
  {
   "cell_type": "code",
   "execution_count": 11,
   "metadata": {},
   "outputs": [
    {
     "data": {
      "text/plain": [
       "array([-1.55793039, -1.26646754, -0.96078331, -0.75418537, -0.73644604,\n",
       "       -0.59093703, -0.54084575, -0.47460531, -0.2812963 , -0.25407241,\n",
       "       -0.22113446, -0.0996712 ,  0.        ,  0.02492489,  0.40652631,\n",
       "        0.41542668,  0.47900851,  0.63133732,  0.67752951,  0.69131303,\n",
       "        0.73407404,  0.90205611,  1.03525249,  1.42487711,  2.06598997])"
      ]
     },
     "execution_count": 11,
     "metadata": {},
     "output_type": "execute_result"
    }
   ],
   "source": [
    "np.sort(series_mad)"
   ]
  },
  {
   "cell_type": "code",
   "execution_count": null,
   "metadata": {},
   "outputs": [],
   "source": []
  }
 ],
 "metadata": {
  "kernelspec": {
   "display_name": "Python 3",
   "language": "python",
   "name": "python3"
  },
  "language_info": {
   "codemirror_mode": {
    "name": "ipython",
    "version": 3
   },
   "file_extension": ".py",
   "mimetype": "text/x-python",
   "name": "python",
   "nbconvert_exporter": "python",
   "pygments_lexer": "ipython3",
   "version": "3.7.0"
  }
 },
 "nbformat": 4,
 "nbformat_minor": 2
}
